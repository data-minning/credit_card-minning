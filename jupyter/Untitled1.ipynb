{
 "cells": [
  {
   "cell_type": "code",
   "execution_count": 7,
   "metadata": {},
   "outputs": [
    {
     "name": "stdout",
     "output_type": "stream",
     "text": [
      "Test\n",
      "name=\"Aaberg\",value=\"\"\n",
      "\n",
      "name=\"Aaby\",value=\"\"\n",
      "\n",
      "name=\"Aadland\",value=\"\"\n",
      "\n",
      "name=\"Aagaard\",value=\"\"\n",
      "\n",
      "name=\"Aakre\",value=\"\"\n",
      "\n",
      "[[]]\n"
     ]
    }
   ],
   "source": [
    "from modules.e_file import *\n",
    "\n",
    "\n",
    "file=File()\n",
    "\n",
    "data=file.file2ObjProp(\"data/account_holder.txt\",\",\")"
   ]
  }
 ],
 "metadata": {
  "kernelspec": {
   "display_name": "Python 3",
   "language": "python",
   "name": "python3"
  },
  "language_info": {
   "codemirror_mode": {
    "name": "ipython",
    "version": 3
   },
   "file_extension": ".py",
   "mimetype": "text/x-python",
   "name": "python",
   "nbconvert_exporter": "python",
   "pygments_lexer": "ipython3",
   "version": "3.6.5"
  }
 },
 "nbformat": 4,
 "nbformat_minor": 2
}
